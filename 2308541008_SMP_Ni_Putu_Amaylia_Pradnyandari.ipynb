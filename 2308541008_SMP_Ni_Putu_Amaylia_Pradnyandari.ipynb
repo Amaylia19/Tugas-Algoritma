{
  "cells": [
    {
      "cell_type": "code",
      "execution_count": null,
      "metadata": {
        "colab": {
          "base_uri": "https://localhost:8080/"
        },
        "id": "HrQx-HH64I2F",
        "outputId": "631f5ed3-7783-4140-8144-4320d9162fad"
      },
      "outputs": [
        {
          "output_type": "stream",
          "name": "stdout",
          "text": [
            "Selamat datang di Program Amaylia\n",
            "Mencari nilai n dari Persamaan :\n",
            "\n",
            "Log x^2024 - x^2025 = (x(1-x)^n)\n",
            "--------------------------------\n",
            "Diketahui :\n",
            "Nilai x1 = 0.6180339887498949\n",
            "Nilai x2 = -1.618033988749895\n",
            "\n",
            "Mencari nilai n dengan substitusi nilai x1\n",
            "Dengan menggunakan persamaan Log x^2024 - x^2025 = (x(1-x)^n)\n",
            "Untuk mengatasi program tidak terbaca dikarenakan out of range\n",
            "Maka Persamaan diubah menjadi Log(x) + Log(1-x)\n",
            "Nilai n adalah = 675.3333333333331\n",
            "\n",
            "Mencari nilai n dengan substitusi nilai x2\n",
            "Dengan menggunakan persamaan Log x^2024 - x^2025 = (x(1-x)^n)\n",
            "Untuk mengatasi program tidak terbaca dikarenakan out of range\n",
            "Maka Persamaan diubah menjadi Log(x) + Log(1-x)\n",
            "Menggunakan 'if-else' untuk memastikan nilai pada np.log adalah nilai Positif\n",
            "Nilai n adalah = 675.3333333333334\n",
            "\n",
            "----------Sekian Dan Terima Kasih----------\n"
          ]
        }
      ],
      "source": [
        "\n",
        "import numpy as np\n",
        "\n",
        "# Nilai x1 dan x2\n",
        "x1_08 = 0.6180339887498949\n",
        "x2_08 = -1.618033988749895\n",
        "\n",
        "print(\"Selamat datang di Program Amaylia\")\n",
        "print(\"Mencari nilai n dari Persamaan :\\n\")\n",
        "print(\"Log x^2024 - x^2025 = (x(1-x)^n)\")\n",
        "print(\"--------------------------------\")\n",
        "print(\"Diketahui :\")\n",
        "print(f\"Nilai x1 = {x1_08}\")\n",
        "print(f\"Nilai x2 = {x2_08}\\n\")\n",
        "\n",
        "# proses substitusi nilai x1 menggunakan np.log\n",
        "print(\"Mencari nilai n dengan substitusi nilai x1\")\n",
        "print(\"Dengan menggunakan persamaan Log x^2024 - x^2025 = (x(1-x)^n)\")\n",
        "print(\"Untuk mengatasi program tidak terbaca dikarenakan out of range\")\n",
        "print(\"Maka Persamaan diubah menjadi Log(x) + Log(1-x)\")\n",
        "a_08 = 2024 * np.log(float(x1_08 if x1_08 > 0 else -x1_08)) + np.log(float(1 - x1_08 if x1_08 > 0 else -x1_08))\n",
        "b_08 = np.log(float(x1_08 if x1_08 > 0 else -x1_08)) + np.log(float(1 - x1_08 if 1 - x1_08 > 0 else -(1 - x1_08)))\n",
        "n1_08 = (a_08 / b_08)\n",
        "print(f\"Nilai n adalah = {n1_08}\\n\")\n",
        "\n",
        "# proses substitusi nilai x2 menggunakan np.log\n",
        "print(\"Mencari nilai n dengan substitusi nilai x2\")\n",
        "print(\"Dengan menggunakan persamaan Log x^2024 - x^2025 = (x(1-x)^n)\")\n",
        "print(\"Untuk mengatasi program tidak terbaca dikarenakan out of range\")\n",
        "print(\"Maka Persamaan diubah menjadi Log(x) + Log(1-x)\")\n",
        "print(\"Menggunakan 'if-else' untuk memastikan nilai pada np.log adalah nilai Positif\")\n",
        "c_08 = 2024 * np.log(float(x_2_08 if x_2_08 > 0 else -x_2_08)) + np.log(float(1 - x_2_08 if 1 - x_2_08 > 0 else -(1 - x_2_08)))\n",
        "d_08 = np.log(float(x_2_08 if x_2_08 > 0 else -x_2_08)) + np.log(float(1 - x_2_08 if 1 - x_2_08 > 0 else -(1 - x_2_08)))\n",
        "n2_08 = (c_08 / d_08)\n",
        "print(f\"Nilai n adalah = {n2_08}\\n\")\n",
        "print(\"----------Sekian Dan Terima Kasih----------\")"
      ]
    },
    {
      "cell_type": "code",
      "source": [
        "import math\n",
        "\n",
        "# Nilai x1 dan x2\n",
        "x1_08 = 0.6180339887498949\n",
        "x2_08 = -1.618033988749895\n",
        "\n",
        "print(\"Selamat datang di Program Amaylia\")\n",
        "print(\"Mencari nilai n dari Persamaan :\\n\")\n",
        "print(\"Log x^2024 - x^2025 = (x(1-x)^n)\")\n",
        "print(\"--------------------------------\")\n",
        "print(\"Diketahui :\")\n",
        "print(f\"Nilai x1 = {x1_08}\")\n",
        "print(f\"Nilai x2 = {x2_08}\\n\")\n",
        "\n",
        "# proses substitusi x1 menggunakan math.log\n",
        "print(\"Mencari nilai n dengan substitusi nilai x1\")\n",
        "print(\"Dengan menggunakan persamaan Log x^2024 - x^2025 = (x(1-x)^n)\")\n",
        "print(\"Untuk mengatasi program tidak terbaca dikarenakan out of range\")\n",
        "print(\"Maka Persamaan diubah menjadi Log(x) + Log(1-x)\")\n",
        "a_08 = 2024 * math.log(float(x1_08 if x1_08 > 0 else -x1_08)) + math.log(float(1 - x1_08 if 1 - x1_08 > 0 else -(1 - x1_08)))\n",
        "b_08 = math.log(float(x1_08 if x1_08 > 0 else -x1_08)) + math.log(float(1 - x1_08 if 1 - x1_08 > 0 else -(1 - x1_08)))\n",
        "n1_08 = a_08 / b_08\n",
        "print(f\"Nilai n adalah = {n1_08}\\n\")\n",
        "\n",
        "# proses substitusi x2 menggunakan math.log\n",
        "print(\"Mencari nilai n dengan substitusi nilai x2\")\n",
        "print(\"Dengan menggunakan persamaan Log x^2024 - x^2025 = (x(1-x)^n)\")\n",
        "print(\"Untuk mengatasi program tidak terbaca dikarenakan out of range\")\n",
        "print(\"Maka Persamaan diubah menjadi Log(x) + Log(1-x)\")\n",
        "print(\"Menggunakan 'if-else' untuk memastikan nilai pada math.log adalah nilai Positif\")\n",
        "c_08 = 2024 * math.log(float(x2_08 if x2_08 > 0 else -x2_08)) + math.log(float(1 - x2_08 if 1 - x2_08 > 0 else -(1 - x2_08)))\n",
        "d_08 = math.log(float(x2_08 if x2_08 > 0 else -x2_08)) + math.log(float(1 - x2_08 if 1 - x2_08 > 0 else -(1 - x2_08)))\n",
        "n2_08 = c_08 / d_08\n",
        "print(f\"Nilai n adalah = {n2_08}\\n\")\n",
        "print(\"----------Sekian Dan Terima Kasih----------\")"
      ],
      "metadata": {
        "colab": {
          "base_uri": "https://localhost:8080/"
        },
        "id": "Wf-Hz9Z8yO7s",
        "outputId": "195a43d3-61ba-4091-cc9c-90b91f92eb7e"
      },
      "execution_count": null,
      "outputs": [
        {
          "output_type": "stream",
          "name": "stdout",
          "text": [
            "Selamat datang di Program Amaylia\n",
            "Mencari nilai n dari Persamaan :\n",
            "\n",
            "Log x^2024 - x^2025 = (x(1-x)^n)\n",
            "--------------------------------\n",
            "Diketahui :\n",
            "Nilai x1 = 0.6180339887498949\n",
            "Nilai x2 = -1.618033988749895\n",
            "\n",
            "Mencari nilai n dengan substitusi nilai x1\n",
            "Dengan menggunakan persamaan Log x^2024 - x^2025 = (x(1-x)^n)\n",
            "Untuk mengatasi program tidak terbaca dikarenakan out of range\n",
            "Maka Persamaan diubah menjadi Log(x) + Log(1-x)\n",
            "Nilai n adalah = 675.3333333333331\n",
            "\n",
            "Mencari nilai n dengan substitusi nilai x2\n",
            "Dengan menggunakan persamaan Log x^2024 - x^2025 = (x(1-x)^n)\n",
            "Untuk mengatasi program tidak terbaca dikarenakan out of range\n",
            "Maka Persamaan diubah menjadi Log(x) + Log(1-x)\n",
            "Menggunakan 'if-else' untuk memastikan nilai pada math.log adalah nilai Positif\n",
            "Nilai n adalah = 675.3333333333334\n",
            "\n",
            "----------Sekian Dan Terima Kasih----------\n"
          ]
        }
      ]
    }
  ],
  "metadata": {
    "colab": {
      "provenance": []
    },
    "kernelspec": {
      "display_name": "Python 3",
      "name": "python3"
    },
    "language_info": {
      "name": "python"
    }
  },
  "nbformat": 4,
  "nbformat_minor": 0
}